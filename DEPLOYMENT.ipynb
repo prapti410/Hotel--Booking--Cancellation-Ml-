{
 "cells": [
  {
   "cell_type": "code",
   "execution_count": 1,
   "id": "beb79813",
   "metadata": {},
   "outputs": [],
   "source": [
    "import gradio as gr\n",
    "import pickle"
   ]
  },
  {
   "cell_type": "code",
   "execution_count": 2,
   "id": "0c3e2a0d",
   "metadata": {},
   "outputs": [],
   "source": [
    "with open ('final_model_xgb.pkl','rb') as file:\n",
    "    model = pickle.load(file)"
   ]
  },
  {
   "cell_type": "code",
   "execution_count": 3,
   "id": "7f11c646",
   "metadata": {},
   "outputs": [
    {
     "data": {
      "text/plain": [
       "array(['lead_time', 'market_segment_type', 'no_of_special_requests',\n",
       "       'avg_price_per_room', 'no_of_adults', 'no_of_weekend_nights',\n",
       "       'required_car_parking_space', 'no_of_week_nights', 'arrival_day',\n",
       "       'arrival_month', 'arrival_weekday'], dtype='<U26')"
      ]
     },
     "execution_count": 3,
     "metadata": {},
     "output_type": "execute_result"
    }
   ],
   "source": [
    "model.feature_names_in_"
   ]
  },
  {
   "cell_type": "code",
   "execution_count": 4,
   "id": "e3c52857",
   "metadata": {},
   "outputs": [
    {
     "data": {
      "text/plain": [
       "1"
      ]
     },
     "execution_count": 4,
     "metadata": {},
     "output_type": "execute_result"
    }
   ],
   "source": [
    "model.predict([[20,1,0,150,2,2,0,1,4,5,2]])[0]"
   ]
  },
  {
   "cell_type": "code",
   "execution_count": 5,
   "id": "a4b5ad6b",
   "metadata": {},
   "outputs": [
    {
     "data": {
      "text/plain": [
       "0.37996924"
      ]
     },
     "execution_count": 5,
     "metadata": {},
     "output_type": "execute_result"
    }
   ],
   "source": [
    "model.predict_proba([[10,1,0,100,2,2,0,1,4,5,2]])[:,1][0]"
   ]
  },
  {
   "cell_type": "code",
   "execution_count": 6,
   "id": "ace2b9a4",
   "metadata": {},
   "outputs": [],
   "source": [
    "def prediction(lt, mst, spcl, price, adult, wkend, park, wk, ar_d, ar_m, ar_w):\n",
    "    \n",
    "    input_data = [[lt, mst, spcl, price, adult, wkend, park, wk, ar_d, ar_m, ar_w]]\n",
    "    \n",
    "    pred = model.predict_proba(input_data)[:,1][0]\n",
    "    \n",
    "    if pred>0.5:\n",
    "        return f' This booking is more likely to get canceled : Chances = {round(pred*100,2)}%'\n",
    "    else:\n",
    "        return f' This booking is less likely to get canceled : Chances = {round(pred*100,2)}%'"
   ]
  },
  {
   "cell_type": "code",
   "execution_count": 7,
   "id": "ae95428f",
   "metadata": {},
   "outputs": [],
   "source": [
    "# prediction(10, 1, 1, 150, 2, 2, 0, 1, 4, 5, 3)"
   ]
  },
  {
   "cell_type": "code",
   "execution_count": 8,
   "id": "7c2d276e",
   "metadata": {},
   "outputs": [],
   "source": [
    "# create interface\n",
    "\n",
    "iface = gr.Interface(fn = prediction, inputs=[gr.Number(label='How many days prior booking was made?'),\n",
    "                                             gr.Dropdown([('Online', 1), ('Offline', 0)], label = 'How the booking was made?'),\n",
    "                                             gr.Dropdown([0,1,2,3,4,5], label = 'How many special requests made?'),\n",
    "                                             gr.Number(label='What is the price per room offered?'),\n",
    "                                             gr.Dropdown([1,2,3,4], label = 'How many adults per room?'),\n",
    "                                             gr.Number(label = 'How many weekend nights in the stay?'),\n",
    "                                             gr.Dropdown([('Yes', 1), ('No', 0)], label = 'Does booking includes parking facility?'),\n",
    "                                             gr.Number(label = 'How many week nights in the stay?'),\n",
    "                                             gr.Slider(minimum=1, maximum=31, step=1, label = 'What is the day of arrival?'),\n",
    "                                             gr.Slider(minimum=1, maximum=12, step=1, label = 'What is the month of arrival?'),\n",
    "                                             gr.Dropdown([('Mon', 0), ('Tue', 1), ('Wed', 2), ('Thrus', 3), ('Fri', 4), \n",
    "                                                          ('Sat', 5), ('Sun', 6)], label = 'What is the weekday of arrival?')],\n",
    "                    outputs = gr.Textbox(label = 'Prediction'), \n",
    "                    title= 'INN Group of Hotels',\n",
    "                    description= 'This application will forecast the cancellation of booking',\n",
    "                    allow_flagging='never')"
   ]
  },
  {
   "cell_type": "code",
   "execution_count": 9,
   "id": "630714f3",
   "metadata": {},
   "outputs": [
    {
     "name": "stdout",
     "output_type": "stream",
     "text": [
      "Running on local URL:  http://127.0.0.1:7860\n",
      "\n",
      "To create a public link, set `share=True` in `launch()`.\n"
     ]
    },
    {
     "data": {
      "text/html": [
       "<div><iframe src=\"http://127.0.0.1:7860/\" width=\"100%\" height=\"500\" allow=\"autoplay; camera; microphone; clipboard-read; clipboard-write;\" frameborder=\"0\" allowfullscreen></iframe></div>"
      ],
      "text/plain": [
       "<IPython.core.display.HTML object>"
      ]
     },
     "metadata": {},
     "output_type": "display_data"
    },
    {
     "data": {
      "text/plain": []
     },
     "execution_count": 9,
     "metadata": {},
     "output_type": "execute_result"
    }
   ],
   "source": [
    "iface.launch()"
   ]
  },
  {
   "cell_type": "code",
   "execution_count": null,
   "id": "5a7b046f",
   "metadata": {},
   "outputs": [],
   "source": []
  },
  {
   "cell_type": "code",
   "execution_count": null,
   "id": "5bbb187e",
   "metadata": {},
   "outputs": [],
   "source": []
  },
  {
   "cell_type": "code",
   "execution_count": null,
   "id": "ca77912b",
   "metadata": {},
   "outputs": [],
   "source": []
  },
  {
   "cell_type": "code",
   "execution_count": null,
   "id": "bb91b0d1",
   "metadata": {},
   "outputs": [],
   "source": []
  },
  {
   "cell_type": "code",
   "execution_count": null,
   "id": "0ec97f6f",
   "metadata": {},
   "outputs": [],
   "source": []
  },
  {
   "cell_type": "code",
   "execution_count": null,
   "id": "ea5e584f",
   "metadata": {},
   "outputs": [],
   "source": []
  },
  {
   "cell_type": "code",
   "execution_count": null,
   "id": "e5beee34",
   "metadata": {},
   "outputs": [],
   "source": []
  },
  {
   "cell_type": "code",
   "execution_count": null,
   "id": "f2249b99",
   "metadata": {},
   "outputs": [],
   "source": []
  },
  {
   "cell_type": "code",
   "execution_count": null,
   "id": "e1eadb1f",
   "metadata": {},
   "outputs": [],
   "source": []
  },
  {
   "cell_type": "code",
   "execution_count": null,
   "id": "296ea5fe",
   "metadata": {},
   "outputs": [],
   "source": []
  },
  {
   "cell_type": "code",
   "execution_count": null,
   "id": "e9e1da22",
   "metadata": {},
   "outputs": [],
   "source": []
  },
  {
   "cell_type": "code",
   "execution_count": null,
   "id": "c039f8df",
   "metadata": {},
   "outputs": [],
   "source": []
  }
 ],
 "metadata": {
  "kernelspec": {
   "display_name": "Python 3 (ipykernel)",
   "language": "python",
   "name": "python3"
  },
  "language_info": {
   "codemirror_mode": {
    "name": "ipython",
    "version": 3
   },
   "file_extension": ".py",
   "mimetype": "text/x-python",
   "name": "python",
   "nbconvert_exporter": "python",
   "pygments_lexer": "ipython3",
   "version": "3.11.7"
  }
 },
 "nbformat": 4,
 "nbformat_minor": 5
}
