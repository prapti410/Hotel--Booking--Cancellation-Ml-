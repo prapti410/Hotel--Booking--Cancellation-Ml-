{
 "cells": [
  {
   "cell_type": "code",
   "execution_count": 1,
   "id": "c54529d2",
   "metadata": {},
   "outputs": [
    {
     "name": "stdout",
     "output_type": "stream",
     "text": [
      "Requirement already satisfied: pip in /Users/devanshu29bansalgmail.com/anaconda3/lib/python3.11/site-packages (24.2)\n",
      "Requirement already satisfied: gradio in /Users/devanshu29bansalgmail.com/anaconda3/lib/python3.11/site-packages (4.43.0)\n",
      "Requirement already satisfied: fastapi in /Users/devanshu29bansalgmail.com/anaconda3/lib/python3.11/site-packages (0.112.4)\n",
      "Collecting fastapi\n",
      "  Using cached fastapi-0.114.0-py3-none-any.whl.metadata (27 kB)\n",
      "Requirement already satisfied: uvicorn in /Users/devanshu29bansalgmail.com/.local/lib/python3.11/site-packages (0.30.6)\n",
      "Requirement already satisfied: aiofiles<24.0,>=22.0 in /Users/devanshu29bansalgmail.com/anaconda3/lib/python3.11/site-packages (from gradio) (22.1.0)\n",
      "Requirement already satisfied: anyio<5.0,>=3.0 in /Users/devanshu29bansalgmail.com/anaconda3/lib/python3.11/site-packages (from gradio) (3.5.0)\n",
      "Requirement already satisfied: ffmpy in /Users/devanshu29bansalgmail.com/.local/lib/python3.11/site-packages (from gradio) (0.4.0)\n",
      "Requirement already satisfied: gradio-client==1.3.0 in /Users/devanshu29bansalgmail.com/anaconda3/lib/python3.11/site-packages (from gradio) (1.3.0)\n",
      "Requirement already satisfied: httpx>=0.24.1 in /Users/devanshu29bansalgmail.com/anaconda3/lib/python3.11/site-packages (from gradio) (0.26.0)\n",
      "Requirement already satisfied: huggingface-hub>=0.19.3 in /Users/devanshu29bansalgmail.com/.local/lib/python3.11/site-packages (from gradio) (0.24.6)\n",
      "Requirement already satisfied: importlib-resources<7.0,>=1.3 in /Users/devanshu29bansalgmail.com/.local/lib/python3.11/site-packages (from gradio) (6.4.4)\n",
      "Requirement already satisfied: jinja2<4.0 in /Users/devanshu29bansalgmail.com/anaconda3/lib/python3.11/site-packages (from gradio) (3.1.2)\n",
      "Requirement already satisfied: markupsafe~=2.0 in /Users/devanshu29bansalgmail.com/anaconda3/lib/python3.11/site-packages (from gradio) (2.1.1)\n",
      "Requirement already satisfied: matplotlib~=3.0 in /Users/devanshu29bansalgmail.com/.local/lib/python3.11/site-packages (from gradio) (3.7.1)\n",
      "Requirement already satisfied: numpy<3.0,>=1.0 in /Users/devanshu29bansalgmail.com/.local/lib/python3.11/site-packages (from gradio) (1.25.2)\n",
      "Requirement already satisfied: orjson~=3.0 in /Users/devanshu29bansalgmail.com/.local/lib/python3.11/site-packages (from gradio) (3.10.7)\n",
      "Requirement already satisfied: packaging in /Users/devanshu29bansalgmail.com/anaconda3/lib/python3.11/site-packages (from gradio) (23.1)\n",
      "Requirement already satisfied: pandas<3.0,>=1.0 in /Users/devanshu29bansalgmail.com/anaconda3/lib/python3.11/site-packages (from gradio) (2.0.3)\n",
      "Requirement already satisfied: pillow<11.0,>=8.0 in /Users/devanshu29bansalgmail.com/anaconda3/lib/python3.11/site-packages (from gradio) (10.0.1)\n",
      "Requirement already satisfied: pydantic>=2.0 in /Users/devanshu29bansalgmail.com/.local/lib/python3.11/site-packages (from gradio) (2.9.0)\n",
      "Requirement already satisfied: pydub in /Users/devanshu29bansalgmail.com/.local/lib/python3.11/site-packages (from gradio) (0.25.1)\n",
      "Requirement already satisfied: python-multipart>=0.0.9 in /Users/devanshu29bansalgmail.com/.local/lib/python3.11/site-packages (from gradio) (0.0.9)\n",
      "Requirement already satisfied: pyyaml<7.0,>=5.0 in /Users/devanshu29bansalgmail.com/anaconda3/lib/python3.11/site-packages (from gradio) (6.0)\n",
      "Requirement already satisfied: ruff>=0.2.2 in /Users/devanshu29bansalgmail.com/.local/lib/python3.11/site-packages (from gradio) (0.6.4)\n",
      "Requirement already satisfied: semantic-version~=2.0 in /Users/devanshu29bansalgmail.com/.local/lib/python3.11/site-packages (from gradio) (2.10.0)\n",
      "Requirement already satisfied: tomlkit==0.12.0 in /Users/devanshu29bansalgmail.com/.local/lib/python3.11/site-packages (from gradio) (0.12.0)\n",
      "Requirement already satisfied: typer<1.0,>=0.12 in /Users/devanshu29bansalgmail.com/.local/lib/python3.11/site-packages (from gradio) (0.12.5)\n",
      "Requirement already satisfied: typing-extensions~=4.0 in /Users/devanshu29bansalgmail.com/.local/lib/python3.11/site-packages (from gradio) (4.12.2)\n",
      "Requirement already satisfied: urllib3~=2.0 in /Users/devanshu29bansalgmail.com/anaconda3/lib/python3.11/site-packages (from gradio) (2.2.2)\n",
      "Requirement already satisfied: fsspec in /Users/devanshu29bansalgmail.com/.local/lib/python3.11/site-packages (from gradio-client==1.3.0->gradio) (2024.9.0)\n",
      "Requirement already satisfied: websockets<13.0,>=10.0 in /Users/devanshu29bansalgmail.com/.local/lib/python3.11/site-packages (from gradio-client==1.3.0->gradio) (11.0.3)\n",
      "Requirement already satisfied: starlette<0.39.0,>=0.37.2 in /Users/devanshu29bansalgmail.com/.local/lib/python3.11/site-packages (from fastapi) (0.38.5)\n",
      "Requirement already satisfied: click>=7.0 in /Users/devanshu29bansalgmail.com/anaconda3/lib/python3.11/site-packages (from uvicorn) (8.0.4)\n",
      "Requirement already satisfied: h11>=0.8 in /Users/devanshu29bansalgmail.com/anaconda3/lib/python3.11/site-packages (from uvicorn) (0.14.0)\n",
      "Requirement already satisfied: idna>=2.8 in /Users/devanshu29bansalgmail.com/anaconda3/lib/python3.11/site-packages (from anyio<5.0,>=3.0->gradio) (3.4)\n",
      "Requirement already satisfied: sniffio>=1.1 in /Users/devanshu29bansalgmail.com/anaconda3/lib/python3.11/site-packages (from anyio<5.0,>=3.0->gradio) (1.2.0)\n",
      "Requirement already satisfied: certifi in /Users/devanshu29bansalgmail.com/anaconda3/lib/python3.11/site-packages (from httpx>=0.24.1->gradio) (2024.7.4)\n",
      "Requirement already satisfied: httpcore==1.* in /Users/devanshu29bansalgmail.com/anaconda3/lib/python3.11/site-packages (from httpx>=0.24.1->gradio) (1.0.2)\n",
      "Requirement already satisfied: filelock in /Users/devanshu29bansalgmail.com/anaconda3/lib/python3.11/site-packages (from huggingface-hub>=0.19.3->gradio) (3.9.0)\n",
      "Requirement already satisfied: requests in /Users/devanshu29bansalgmail.com/anaconda3/lib/python3.11/site-packages (from huggingface-hub>=0.19.3->gradio) (2.31.0)\n",
      "Requirement already satisfied: tqdm>=4.42.1 in /Users/devanshu29bansalgmail.com/anaconda3/lib/python3.11/site-packages (from huggingface-hub>=0.19.3->gradio) (4.65.0)\n",
      "Requirement already satisfied: contourpy>=1.0.1 in /Users/devanshu29bansalgmail.com/anaconda3/lib/python3.11/site-packages (from matplotlib~=3.0->gradio) (1.0.5)\n",
      "Requirement already satisfied: cycler>=0.10 in /Users/devanshu29bansalgmail.com/anaconda3/lib/python3.11/site-packages (from matplotlib~=3.0->gradio) (0.11.0)\n",
      "Requirement already satisfied: fonttools>=4.22.0 in /Users/devanshu29bansalgmail.com/anaconda3/lib/python3.11/site-packages (from matplotlib~=3.0->gradio) (4.25.0)\n",
      "Requirement already satisfied: kiwisolver>=1.0.1 in /Users/devanshu29bansalgmail.com/anaconda3/lib/python3.11/site-packages (from matplotlib~=3.0->gradio) (1.4.4)\n",
      "Requirement already satisfied: pyparsing>=2.3.1 in /Users/devanshu29bansalgmail.com/anaconda3/lib/python3.11/site-packages (from matplotlib~=3.0->gradio) (3.0.9)\n",
      "Requirement already satisfied: python-dateutil>=2.7 in /Users/devanshu29bansalgmail.com/anaconda3/lib/python3.11/site-packages (from matplotlib~=3.0->gradio) (2.8.2)\n",
      "Requirement already satisfied: pytz>=2020.1 in /Users/devanshu29bansalgmail.com/anaconda3/lib/python3.11/site-packages (from pandas<3.0,>=1.0->gradio) (2023.3.post1)\n",
      "Requirement already satisfied: tzdata>=2022.1 in /Users/devanshu29bansalgmail.com/anaconda3/lib/python3.11/site-packages (from pandas<3.0,>=1.0->gradio) (2023.3)\n",
      "Requirement already satisfied: annotated-types>=0.4.0 in /Users/devanshu29bansalgmail.com/.local/lib/python3.11/site-packages (from pydantic>=2.0->gradio) (0.7.0)\n",
      "Requirement already satisfied: pydantic-core==2.23.2 in /Users/devanshu29bansalgmail.com/.local/lib/python3.11/site-packages (from pydantic>=2.0->gradio) (2.23.2)\n",
      "Requirement already satisfied: shellingham>=1.3.0 in /Users/devanshu29bansalgmail.com/.local/lib/python3.11/site-packages (from typer<1.0,>=0.12->gradio) (1.5.4)\n",
      "Requirement already satisfied: rich>=10.11.0 in /Users/devanshu29bansalgmail.com/.local/lib/python3.11/site-packages (from typer<1.0,>=0.12->gradio) (13.8.0)\n",
      "Requirement already satisfied: six>=1.5 in /Users/devanshu29bansalgmail.com/anaconda3/lib/python3.11/site-packages (from python-dateutil>=2.7->matplotlib~=3.0->gradio) (1.16.0)\n",
      "Requirement already satisfied: markdown-it-py>=2.2.0 in /Users/devanshu29bansalgmail.com/anaconda3/lib/python3.11/site-packages (from rich>=10.11.0->typer<1.0,>=0.12->gradio) (2.2.0)\n",
      "Requirement already satisfied: pygments<3.0.0,>=2.13.0 in /Users/devanshu29bansalgmail.com/anaconda3/lib/python3.11/site-packages (from rich>=10.11.0->typer<1.0,>=0.12->gradio) (2.15.1)\n",
      "Requirement already satisfied: charset-normalizer<4,>=2 in /Users/devanshu29bansalgmail.com/anaconda3/lib/python3.11/site-packages (from requests->huggingface-hub>=0.19.3->gradio) (2.0.4)\n",
      "Requirement already satisfied: mdurl~=0.1 in /Users/devanshu29bansalgmail.com/anaconda3/lib/python3.11/site-packages (from markdown-it-py>=2.2.0->rich>=10.11.0->typer<1.0,>=0.12->gradio) (0.1.0)\n"
     ]
    }
   ],
   "source": [
    "!pip install --upgrade pip\n",
    "!pip install --upgrade gradio fastapi uvicorn"
   ]
  },
  {
   "cell_type": "code",
   "execution_count": 2,
   "id": "e281d056",
   "metadata": {},
   "outputs": [],
   "source": [
    "import gradio as gr \n",
    "import pickle"
   ]
  },
  {
   "cell_type": "code",
   "execution_count": 3,
   "id": "6293df8c",
   "metadata": {},
   "outputs": [],
   "source": [
    "with open('Final_model_xgb.pkl','rb') as file:\n",
    "    model = pickle.load(file)"
   ]
  },
  {
   "cell_type": "code",
   "execution_count": 4,
   "id": "169b5520",
   "metadata": {},
   "outputs": [
    {
     "data": {
      "text/plain": [
       "array(['lead_time', 'market_segment_type', 'no_of_special_requests',\n",
       "       'avg_price_per_room', 'no_of_adults', 'no_of_weekend_nights',\n",
       "       'required_car_parking_space', 'no_of_week_nights', 'arrival_day',\n",
       "       'arrival_month', 'arrival_weekday'], dtype='<U26')"
      ]
     },
     "execution_count": 4,
     "metadata": {},
     "output_type": "execute_result"
    }
   ],
   "source": [
    "model.feature_names_in_"
   ]
  },
  {
   "cell_type": "code",
   "execution_count": 5,
   "id": "e6e69217",
   "metadata": {},
   "outputs": [
    {
     "data": {
      "text/plain": [
       "0"
      ]
     },
     "execution_count": 5,
     "metadata": {},
     "output_type": "execute_result"
    }
   ],
   "source": [
    "model.predict([[10,1,0,100,2,2,0,1,4,5,2]])[0]"
   ]
  },
  {
   "cell_type": "code",
   "execution_count": 6,
   "id": "e2131c8d",
   "metadata": {},
   "outputs": [],
   "source": [
    "def prediction(lt,mst,spcl,price,adul,wkend,park,wk,ar_d,ar_m,ar_w):\n",
    "    input_data = [[lt,mst,spcl,price,adul,wkend,park,wk,ar_d,ar_m,ar_w]]\n",
    "    \n",
    "    pred=model.predict_proba(input_data)[:,1][0]\n",
    "    \n",
    "    if pred>0.5:\n",
    "        return f'This Booking is more likely to get cancelled: Chances={round(pred*100,2)}%'\n",
    "    else:\n",
    "        return f'This Booking is less likely to get cancelled: Chances={round(pred*100,2)}%'"
   ]
  },
  {
   "cell_type": "code",
   "execution_count": 7,
   "id": "e449978d",
   "metadata": {},
   "outputs": [
    {
     "data": {
      "text/plain": [
       "'This Booking is less likely to get cancelled: Chances=13.66%'"
      ]
     },
     "execution_count": 7,
     "metadata": {},
     "output_type": "execute_result"
    }
   ],
   "source": [
    "prediction(10,1,1,100,2,2,0,1,4,5,3)"
   ]
  },
  {
   "cell_type": "code",
   "execution_count": 8,
   "id": "e59ad8d2",
   "metadata": {},
   "outputs": [],
   "source": [
    "iface=gr.Interface(fn=prediction,\n",
    "                  inputs=[gr.Number(label='How many Prior days booking was made?'),\n",
    "                          gr.Dropdown([('Online',1),('Offline',0)],label='How the booking was made?'),\n",
    "                          gr.Dropdown([0,1,2,3,4,5],label='How many special requests made?'),\n",
    "                          gr.Number(label='What is the price per room offered?'),\n",
    "                          gr.Dropdown([1,2,3,4],label='How many adults per room?'),\n",
    "                          gr.Number(label='How many weekend nights in the stay?'),\n",
    "                          gr.Dropdown([('Yes',1),('No',0)],label='Does booking includs Parking facility?'),\n",
    "                          gr.Number(label='How many week nights in the stay?'),\n",
    "                          gr.Slider(minimum=1,maximum=31,step=1,label='What is the day of arrival?'),\n",
    "                          gr.Slider(minimum=1,maximum=12,step=1,label='What is the month of arrival?'),\n",
    "                          gr.Dropdown([('Mon',0),('Tue',1),('Wed',2),('Thus',3),('Fri',4),('Sat',5),('Sun',6)],\n",
    "                                     label='What is the weekend of arrival?')],\n",
    "                  \n",
    "                  outputs=gr.Textbox(label='Prediction'),\n",
    "                  title='INN Group of Hotels',\n",
    "                  description='This application will forcast the calcellation of booking',\n",
    "                  allow_flagging='never')\n"
   ]
  },
  {
   "cell_type": "code",
   "execution_count": 9,
   "id": "6eeaf2ba",
   "metadata": {},
   "outputs": [
    {
     "name": "stdout",
     "output_type": "stream",
     "text": [
      "Running on local URL:  http://127.0.0.1:7860\n",
      "\n",
      "To create a public link, set `share=True` in `launch()`.\n"
     ]
    },
    {
     "data": {
      "text/html": [
       "<div><iframe src=\"http://127.0.0.1:7860/\" width=\"100%\" height=\"500\" allow=\"autoplay; camera; microphone; clipboard-read; clipboard-write;\" frameborder=\"0\" allowfullscreen></iframe></div>"
      ],
      "text/plain": [
       "<IPython.core.display.HTML object>"
      ]
     },
     "metadata": {},
     "output_type": "display_data"
    },
    {
     "data": {
      "text/plain": []
     },
     "execution_count": 9,
     "metadata": {},
     "output_type": "execute_result"
    }
   ],
   "source": [
    "iface.launch()"
   ]
  },
  {
   "cell_type": "code",
   "execution_count": 2,
   "id": "fdd650eb",
   "metadata": {},
   "outputs": [
    {
     "name": "stderr",
     "output_type": "stream",
     "text": [
      "2024-09-25 19:28:36.731 WARNING streamlit.runtime.scriptrunner_utils.script_run_context: Thread 'MainThread': missing ScriptRunContext! This warning can be ignored when running in bare mode.\n",
      "2024-09-25 19:28:36.759 WARNING streamlit.runtime.scriptrunner_utils.script_run_context: Thread 'MainThread': missing ScriptRunContext! This warning can be ignored when running in bare mode.\n",
      "2024-09-25 19:28:36.842 \n",
      "  \u001b[33m\u001b[1mWarning:\u001b[0m to view this Streamlit app on a browser, run it with the following\n",
      "  command:\n",
      "\n",
      "    streamlit run /Users/devanshu29bansalgmail.com/anaconda3/lib/python3.11/site-packages/ipykernel_launcher.py [ARGUMENTS]\n",
      "2024-09-25 19:28:36.843 Thread 'MainThread': missing ScriptRunContext! This warning can be ignored when running in bare mode.\n",
      "2024-09-25 19:28:36.843 Thread 'MainThread': missing ScriptRunContext! This warning can be ignored when running in bare mode.\n",
      "2024-09-25 19:28:36.843 Thread 'MainThread': missing ScriptRunContext! This warning can be ignored when running in bare mode.\n",
      "2024-09-25 19:28:36.843 Thread 'MainThread': missing ScriptRunContext! This warning can be ignored when running in bare mode.\n",
      "2024-09-25 19:28:36.843 Thread 'MainThread': missing ScriptRunContext! This warning can be ignored when running in bare mode.\n",
      "2024-09-25 19:28:36.844 Thread 'MainThread': missing ScriptRunContext! This warning can be ignored when running in bare mode.\n",
      "2024-09-25 19:28:36.844 Session state does not function when running a script without `streamlit run`\n",
      "2024-09-25 19:28:36.844 Thread 'MainThread': missing ScriptRunContext! This warning can be ignored when running in bare mode.\n",
      "2024-09-25 19:28:36.844 Thread 'MainThread': missing ScriptRunContext! This warning can be ignored when running in bare mode.\n",
      "2024-09-25 19:28:36.845 Thread 'MainThread': missing ScriptRunContext! This warning can be ignored when running in bare mode.\n",
      "2024-09-25 19:28:36.845 Thread 'MainThread': missing ScriptRunContext! This warning can be ignored when running in bare mode.\n",
      "2024-09-25 19:28:36.845 Thread 'MainThread': missing ScriptRunContext! This warning can be ignored when running in bare mode.\n",
      "2024-09-25 19:28:36.845 Thread 'MainThread': missing ScriptRunContext! This warning can be ignored when running in bare mode.\n",
      "2024-09-25 19:28:36.846 Thread 'MainThread': missing ScriptRunContext! This warning can be ignored when running in bare mode.\n",
      "2024-09-25 19:28:36.846 Thread 'MainThread': missing ScriptRunContext! This warning can be ignored when running in bare mode.\n",
      "2024-09-25 19:28:36.846 Thread 'MainThread': missing ScriptRunContext! This warning can be ignored when running in bare mode.\n",
      "2024-09-25 19:28:36.846 Thread 'MainThread': missing ScriptRunContext! This warning can be ignored when running in bare mode.\n",
      "2024-09-25 19:28:36.846 Thread 'MainThread': missing ScriptRunContext! This warning can be ignored when running in bare mode.\n",
      "2024-09-25 19:28:36.847 Thread 'MainThread': missing ScriptRunContext! This warning can be ignored when running in bare mode.\n",
      "2024-09-25 19:28:36.847 Thread 'MainThread': missing ScriptRunContext! This warning can be ignored when running in bare mode.\n",
      "2024-09-25 19:28:36.847 Thread 'MainThread': missing ScriptRunContext! This warning can be ignored when running in bare mode.\n",
      "2024-09-25 19:28:36.847 Thread 'MainThread': missing ScriptRunContext! This warning can be ignored when running in bare mode.\n",
      "2024-09-25 19:28:36.847 Thread 'MainThread': missing ScriptRunContext! This warning can be ignored when running in bare mode.\n",
      "2024-09-25 19:28:36.847 Thread 'MainThread': missing ScriptRunContext! This warning can be ignored when running in bare mode.\n",
      "2024-09-25 19:28:36.848 Thread 'MainThread': missing ScriptRunContext! This warning can be ignored when running in bare mode.\n",
      "2024-09-25 19:28:36.848 Thread 'MainThread': missing ScriptRunContext! This warning can be ignored when running in bare mode.\n",
      "2024-09-25 19:28:36.848 Thread 'MainThread': missing ScriptRunContext! This warning can be ignored when running in bare mode.\n",
      "2024-09-25 19:28:36.848 Thread 'MainThread': missing ScriptRunContext! This warning can be ignored when running in bare mode.\n",
      "2024-09-25 19:28:36.848 Thread 'MainThread': missing ScriptRunContext! This warning can be ignored when running in bare mode.\n",
      "2024-09-25 19:28:36.848 Thread 'MainThread': missing ScriptRunContext! This warning can be ignored when running in bare mode.\n",
      "2024-09-25 19:28:36.849 Thread 'MainThread': missing ScriptRunContext! This warning can be ignored when running in bare mode.\n",
      "2024-09-25 19:28:36.849 Thread 'MainThread': missing ScriptRunContext! This warning can be ignored when running in bare mode.\n",
      "2024-09-25 19:28:36.849 Thread 'MainThread': missing ScriptRunContext! This warning can be ignored when running in bare mode.\n",
      "2024-09-25 19:28:36.849 Thread 'MainThread': missing ScriptRunContext! This warning can be ignored when running in bare mode.\n",
      "2024-09-25 19:28:36.849 Thread 'MainThread': missing ScriptRunContext! This warning can be ignored when running in bare mode.\n",
      "2024-09-25 19:28:36.849 Thread 'MainThread': missing ScriptRunContext! This warning can be ignored when running in bare mode.\n",
      "2024-09-25 19:28:36.850 Thread 'MainThread': missing ScriptRunContext! This warning can be ignored when running in bare mode.\n",
      "2024-09-25 19:28:36.850 Thread 'MainThread': missing ScriptRunContext! This warning can be ignored when running in bare mode.\n",
      "2024-09-25 19:28:36.850 Thread 'MainThread': missing ScriptRunContext! This warning can be ignored when running in bare mode.\n",
      "2024-09-25 19:28:36.850 Thread 'MainThread': missing ScriptRunContext! This warning can be ignored when running in bare mode.\n",
      "2024-09-25 19:28:36.850 Thread 'MainThread': missing ScriptRunContext! This warning can be ignored when running in bare mode.\n",
      "2024-09-25 19:28:36.850 Thread 'MainThread': missing ScriptRunContext! This warning can be ignored when running in bare mode.\n",
      "2024-09-25 19:28:36.850 Thread 'MainThread': missing ScriptRunContext! This warning can be ignored when running in bare mode.\n",
      "2024-09-25 19:28:36.851 Thread 'MainThread': missing ScriptRunContext! This warning can be ignored when running in bare mode.\n",
      "2024-09-25 19:28:36.851 Thread 'MainThread': missing ScriptRunContext! This warning can be ignored when running in bare mode.\n",
      "2024-09-25 19:28:36.851 Thread 'MainThread': missing ScriptRunContext! This warning can be ignored when running in bare mode.\n",
      "2024-09-25 19:28:36.851 Thread 'MainThread': missing ScriptRunContext! This warning can be ignored when running in bare mode.\n",
      "2024-09-25 19:28:36.851 Thread 'MainThread': missing ScriptRunContext! This warning can be ignored when running in bare mode.\n",
      "2024-09-25 19:28:36.852 Thread 'MainThread': missing ScriptRunContext! This warning can be ignored when running in bare mode.\n",
      "2024-09-25 19:28:36.852 Thread 'MainThread': missing ScriptRunContext! This warning can be ignored when running in bare mode.\n",
      "2024-09-25 19:28:36.852 Thread 'MainThread': missing ScriptRunContext! This warning can be ignored when running in bare mode.\n",
      "2024-09-25 19:28:36.852 Thread 'MainThread': missing ScriptRunContext! This warning can be ignored when running in bare mode.\n",
      "2024-09-25 19:28:36.852 Thread 'MainThread': missing ScriptRunContext! This warning can be ignored when running in bare mode.\n",
      "2024-09-25 19:28:36.852 Thread 'MainThread': missing ScriptRunContext! This warning can be ignored when running in bare mode.\n",
      "2024-09-25 19:28:36.852 Thread 'MainThread': missing ScriptRunContext! This warning can be ignored when running in bare mode.\n",
      "2024-09-25 19:28:36.853 Thread 'MainThread': missing ScriptRunContext! This warning can be ignored when running in bare mode.\n",
      "2024-09-25 19:28:36.853 Thread 'MainThread': missing ScriptRunContext! This warning can be ignored when running in bare mode.\n",
      "2024-09-25 19:28:36.853 Thread 'MainThread': missing ScriptRunContext! This warning can be ignored when running in bare mode.\n",
      "2024-09-25 19:28:36.853 Thread 'MainThread': missing ScriptRunContext! This warning can be ignored when running in bare mode.\n",
      "2024-09-25 19:28:36.853 Thread 'MainThread': missing ScriptRunContext! This warning can be ignored when running in bare mode.\n",
      "2024-09-25 19:28:36.854 Thread 'MainThread': missing ScriptRunContext! This warning can be ignored when running in bare mode.\n"
     ]
    },
    {
     "name": "stderr",
     "output_type": "stream",
     "text": [
      "2024-09-25 19:28:36.854 Thread 'MainThread': missing ScriptRunContext! This warning can be ignored when running in bare mode.\n",
      "2024-09-25 19:28:36.855 Thread 'MainThread': missing ScriptRunContext! This warning can be ignored when running in bare mode.\n"
     ]
    }
   ],
   "source": [
    "import streamlit as st \n",
    "import numpy as np \n",
    "import pandas as pd  \n",
    "import pickle \n",
    "from xgboost import XGBClassifier\n",
    "import warnings\n",
    "warnings.filterwarnings('ignore')\n",
    "\n",
    "with open('Final_model_xgb.pkl','rb')as file:\n",
    "    model = pickle.load(file)\n",
    "\n",
    "#input_data = [[lt,mst,spcl,price,adul,wkend,park,wk,ar_d,ar_m,ar_w]]\n",
    "def prediction(input_data):\n",
    "    pred=model.predict_proba(input_data)[:,1][0]\n",
    "    \n",
    "    if pred>0.5:\n",
    "        return f'This Booking is more likely to get cancelled: Chances={round(pred*100,2)}%'\n",
    "    else:\n",
    "        return f'This Booking is less likely to get cancelled: Chances={round(pred*100,2)}%'\n",
    "\n",
    "def main():\n",
    "    st.image('hotelimage.png',use_column_width=True)\n",
    "    st.title('INN Hotels')\n",
    "    lt=st.text_input('Enter Lead time')\n",
    "    mkt=(lambda x : 1 if x =='Online' else 0)(st.selectbox('Enter the type of booking',['Online','Offline']))\n",
    "    spcl=st.selectbox('How many special requests have been made?',[0,1,2,3,4,5])\n",
    "    price=st.text_input('Enter the price of the room.')\n",
    "    adults= st.selectbox('How many Adults per room?',[1,2,3,4])\n",
    "    wknd=st.text_input('How many weekend nights?')\n",
    "    prk=(lambda x : 1 if x=='Yes' else 0)(st.selectbox('Does booking includes parking facility.',['Yes','No']))\n",
    "    wk=st.text_input('How many weekday nights')\n",
    "    arr_d=st.slider('What will be the day of arrival.',min_value=1,max_value=31,step=1)\n",
    "    arr_mon=st.slider('What will be the month of arrival.',min_value=1,max_value=12,step=1)\n",
    "    week_lambda= (lambda x : 0 if x=='Mon' else 1 if x=='Tue' else 2 if x=='Wed' else 3 \n",
    "                  if x=='Thus' else 4 if x=='Fri' else 5 if x=='Sat' else 6 )\n",
    "    arr_wd= week_lambda(st.selectbox('What is the Weekday of arrival?.',['Mon','Tue','Wed','Thus','Fri','Sat','Sun']))\n",
    "\n",
    "    input_data = [[lt,mkt,spcl,price,adults,wknd,prk,wk,arr_d,arr_mon,arr_wd]]\n",
    "\n",
    "\n",
    "    if st.button('Predict'):\n",
    "        responce=prediction(input_data)\n",
    "        st.success(responce)\n",
    "\n",
    "\n",
    "if __name__ =='__main__':\n",
    "    main()"
   ]
  },
  {
   "cell_type": "code",
   "execution_count": null,
   "id": "18cb1dad",
   "metadata": {},
   "outputs": [],
   "source": []
  }
 ],
 "metadata": {
  "kernelspec": {
   "display_name": "Python 3 (ipykernel)",
   "language": "python",
   "name": "python3"
  },
  "language_info": {
   "codemirror_mode": {
    "name": "ipython",
    "version": 3
   },
   "file_extension": ".py",
   "mimetype": "text/x-python",
   "name": "python",
   "nbconvert_exporter": "python",
   "pygments_lexer": "ipython3",
   "version": "3.11.5"
  }
 },
 "nbformat": 4,
 "nbformat_minor": 5
}
